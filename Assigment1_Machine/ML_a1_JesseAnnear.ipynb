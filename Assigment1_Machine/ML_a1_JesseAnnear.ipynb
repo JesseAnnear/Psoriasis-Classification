{
 "cells": [
  {
   "cell_type": "markdown",
   "id": "158f96d1",
   "metadata": {},
   "source": [
    "### Machine Learining Assignment\n",
    " I decided to choose this dermatology dataset because I have dermatology/immunological disease called psoriasis.Hence, I thought it would be fun to try a machine learning algorithm on a dataset. I decided to use the https://archive.ics.uci.edu/ml/datasets/Dermatologydataset dataset.\n",
    "\n",
    "The dataset that I decided to choose has 34 feature variables that describe one of six diseases. Since I have psoriasis myself, I decided that I am going to try to pick psoriasis with the dataset. In order to do so I had to create a binary Y variable where 0 = no psoriasis and 1= has psoriasis.Since, there are so many possible X features and psiorisis is the most common possible outcome, I decided to remove all the histology features and age to make it more difficult to find a conclusion. I also decided to remove 'History' because in my personal case I didn't have medical history until after my diagnosis(due to my mother being adopted).Therefore we are left with the following features. X_Features: 1: erythema 2: scaling 3: definite borders 4: itching 5: koebner phenomenon 6: polygonal papules 7: follicular papules 8: oral mucosal involvement 9: knee and elbow involvement 10: scalp involvement All features follow the scale given by the dataset description. \"Every other feature (clinical and histopathological) was given a degree in the range of 0 to 3. Here, 0 indicates that the feature was not present, 3 indicates the largest amount possible, and 1, 2 indicate the relative intermediate values.\""
   ]
  },
  {
   "cell_type": "code",
   "execution_count": 111,
   "id": "4d804e08",
   "metadata": {},
   "outputs": [],
   "source": [
    "import pandas as pd\n",
    "\n",
    "#Read the data\n",
    "df = pd.read_csv(r'dermatology.data', header = None)\n",
    "col =  ['erythema' ,'scaling' ,'definite borders' , \n",
    "       'itching' ,'koebner phenomenon' ,'polygonal papules' \n",
    "       ,'follicular papules' ,'oral mucosal involvement'\n",
    "       ,'knee and elbow involvement','scalp involvement']"
   ]
  },
  {
   "cell_type": "code",
   "execution_count": 112,
   "id": "794bf86e",
   "metadata": {},
   "outputs": [
    {
     "data": {
      "text/html": [
       "<div>\n",
       "<style scoped>\n",
       "    .dataframe tbody tr th:only-of-type {\n",
       "        vertical-align: middle;\n",
       "    }\n",
       "\n",
       "    .dataframe tbody tr th {\n",
       "        vertical-align: top;\n",
       "    }\n",
       "\n",
       "    .dataframe thead th {\n",
       "        text-align: right;\n",
       "    }\n",
       "</style>\n",
       "<table border=\"1\" class=\"dataframe\">\n",
       "  <thead>\n",
       "    <tr style=\"text-align: right;\">\n",
       "      <th></th>\n",
       "      <th>erythema</th>\n",
       "      <th>scaling</th>\n",
       "      <th>definite borders</th>\n",
       "      <th>itching</th>\n",
       "      <th>koebner phenomenon</th>\n",
       "      <th>polygonal papules</th>\n",
       "      <th>follicular papules</th>\n",
       "      <th>oral mucosal involvement</th>\n",
       "      <th>knee and elbow involvement</th>\n",
       "      <th>scalp involvement</th>\n",
       "    </tr>\n",
       "  </thead>\n",
       "  <tbody>\n",
       "    <tr>\n",
       "      <th>0</th>\n",
       "      <td>2</td>\n",
       "      <td>2</td>\n",
       "      <td>0</td>\n",
       "      <td>3</td>\n",
       "      <td>0</td>\n",
       "      <td>0</td>\n",
       "      <td>0</td>\n",
       "      <td>0</td>\n",
       "      <td>1</td>\n",
       "      <td>0</td>\n",
       "    </tr>\n",
       "    <tr>\n",
       "      <th>1</th>\n",
       "      <td>3</td>\n",
       "      <td>3</td>\n",
       "      <td>3</td>\n",
       "      <td>2</td>\n",
       "      <td>1</td>\n",
       "      <td>0</td>\n",
       "      <td>0</td>\n",
       "      <td>0</td>\n",
       "      <td>1</td>\n",
       "      <td>1</td>\n",
       "    </tr>\n",
       "    <tr>\n",
       "      <th>2</th>\n",
       "      <td>2</td>\n",
       "      <td>1</td>\n",
       "      <td>2</td>\n",
       "      <td>3</td>\n",
       "      <td>1</td>\n",
       "      <td>3</td>\n",
       "      <td>0</td>\n",
       "      <td>3</td>\n",
       "      <td>0</td>\n",
       "      <td>0</td>\n",
       "    </tr>\n",
       "    <tr>\n",
       "      <th>3</th>\n",
       "      <td>2</td>\n",
       "      <td>2</td>\n",
       "      <td>2</td>\n",
       "      <td>0</td>\n",
       "      <td>0</td>\n",
       "      <td>0</td>\n",
       "      <td>0</td>\n",
       "      <td>0</td>\n",
       "      <td>3</td>\n",
       "      <td>2</td>\n",
       "    </tr>\n",
       "    <tr>\n",
       "      <th>4</th>\n",
       "      <td>2</td>\n",
       "      <td>3</td>\n",
       "      <td>2</td>\n",
       "      <td>2</td>\n",
       "      <td>2</td>\n",
       "      <td>2</td>\n",
       "      <td>0</td>\n",
       "      <td>2</td>\n",
       "      <td>0</td>\n",
       "      <td>0</td>\n",
       "    </tr>\n",
       "  </tbody>\n",
       "</table>\n",
       "</div>"
      ],
      "text/plain": [
       "   erythema  scaling  definite borders  itching  koebner phenomenon  \\\n",
       "0         2        2                 0        3                   0   \n",
       "1         3        3                 3        2                   1   \n",
       "2         2        1                 2        3                   1   \n",
       "3         2        2                 2        0                   0   \n",
       "4         2        3                 2        2                   2   \n",
       "\n",
       "   polygonal papules  follicular papules  oral mucosal involvement  \\\n",
       "0                  0                   0                         0   \n",
       "1                  0                   0                         0   \n",
       "2                  3                   0                         3   \n",
       "3                  0                   0                         0   \n",
       "4                  2                   0                         2   \n",
       "\n",
       "   knee and elbow involvement  scalp involvement  \n",
       "0                           1                  0  \n",
       "1                           1                  1  \n",
       "2                           0                  0  \n",
       "3                           3                  2  \n",
       "4                           0                  0  "
      ]
     },
     "execution_count": 112,
     "metadata": {},
     "output_type": "execute_result"
    }
   ],
   "source": [
    "X = df.iloc[:,:len(col)]\n",
    "X.columns = col\n",
    "X.head()"
   ]
  },
  {
   "cell_type": "code",
   "execution_count": 113,
   "id": "f5e7db2d",
   "metadata": {},
   "outputs": [
    {
     "data": {
      "text/html": [
       "<div>\n",
       "<style scoped>\n",
       "    .dataframe tbody tr th:only-of-type {\n",
       "        vertical-align: middle;\n",
       "    }\n",
       "\n",
       "    .dataframe tbody tr th {\n",
       "        vertical-align: top;\n",
       "    }\n",
       "\n",
       "    .dataframe thead th {\n",
       "        text-align: right;\n",
       "    }\n",
       "</style>\n",
       "<table border=\"1\" class=\"dataframe\">\n",
       "  <thead>\n",
       "    <tr style=\"text-align: right;\">\n",
       "      <th></th>\n",
       "      <th>erythema</th>\n",
       "      <th>scaling</th>\n",
       "      <th>definite borders</th>\n",
       "      <th>itching</th>\n",
       "      <th>koebner phenomenon</th>\n",
       "      <th>polygonal papules</th>\n",
       "      <th>follicular papules</th>\n",
       "      <th>oral mucosal involvement</th>\n",
       "      <th>knee and elbow involvement</th>\n",
       "      <th>scalp involvement</th>\n",
       "    </tr>\n",
       "  </thead>\n",
       "  <tbody>\n",
       "    <tr>\n",
       "      <th>0</th>\n",
       "      <td>4</td>\n",
       "      <td>8</td>\n",
       "      <td>59</td>\n",
       "      <td>118</td>\n",
       "      <td>224</td>\n",
       "      <td>297</td>\n",
       "      <td>333</td>\n",
       "      <td>299</td>\n",
       "      <td>251</td>\n",
       "      <td>264</td>\n",
       "    </tr>\n",
       "    <tr>\n",
       "      <th>1</th>\n",
       "      <td>57</td>\n",
       "      <td>111</td>\n",
       "      <td>93</td>\n",
       "      <td>72</td>\n",
       "      <td>70</td>\n",
       "      <td>1</td>\n",
       "      <td>11</td>\n",
       "      <td>9</td>\n",
       "      <td>28</td>\n",
       "      <td>30</td>\n",
       "    </tr>\n",
       "    <tr>\n",
       "      <th>2</th>\n",
       "      <td>215</td>\n",
       "      <td>195</td>\n",
       "      <td>168</td>\n",
       "      <td>100</td>\n",
       "      <td>54</td>\n",
       "      <td>41</td>\n",
       "      <td>16</td>\n",
       "      <td>45</td>\n",
       "      <td>64</td>\n",
       "      <td>56</td>\n",
       "    </tr>\n",
       "    <tr>\n",
       "      <th>3</th>\n",
       "      <td>90</td>\n",
       "      <td>52</td>\n",
       "      <td>46</td>\n",
       "      <td>76</td>\n",
       "      <td>18</td>\n",
       "      <td>27</td>\n",
       "      <td>6</td>\n",
       "      <td>13</td>\n",
       "      <td>23</td>\n",
       "      <td>16</td>\n",
       "    </tr>\n",
       "  </tbody>\n",
       "</table>\n",
       "</div>"
      ],
      "text/plain": [
       "   erythema  scaling  definite borders  itching  koebner phenomenon  \\\n",
       "0         4        8                59      118                 224   \n",
       "1        57      111                93       72                  70   \n",
       "2       215      195               168      100                  54   \n",
       "3        90       52                46       76                  18   \n",
       "\n",
       "   polygonal papules  follicular papules  oral mucosal involvement  \\\n",
       "0                297                 333                       299   \n",
       "1                  1                  11                         9   \n",
       "2                 41                  16                        45   \n",
       "3                 27                   6                        13   \n",
       "\n",
       "   knee and elbow involvement  scalp involvement  \n",
       "0                         251                264  \n",
       "1                          28                 30  \n",
       "2                          64                 56  \n",
       "3                          23                 16  "
      ]
     },
     "execution_count": 113,
     "metadata": {},
     "output_type": "execute_result"
    }
   ],
   "source": [
    "#view the distribution of our X features\n",
    "concat_series = [X[column].value_counts() for column in X.columns]\n",
    "value_counts = pd.concat(concat_series, axis=1)\n",
    "value_counts"
   ]
  },
  {
   "cell_type": "markdown",
   "id": "ac21492f",
   "metadata": {},
   "source": [
    "## Observation\n",
    "Notice that all of our X-features are between 0-4 so we won't have to do any feature scaling to make it for even between groups."
   ]
  },
  {
   "cell_type": "code",
   "execution_count": 117,
   "id": "e717e9dd",
   "metadata": {},
   "outputs": [
    {
     "data": {
      "text/plain": [
       "<AxesSubplot:>"
      ]
     },
     "execution_count": 117,
     "metadata": {},
     "output_type": "execute_result"
    },
    {
     "data": {
      "image/png": "[encoded data removed]",
      "text/plain": [
       "<Figure size 432x288 with 2 Axes>"
      ]
     },
     "metadata": {
      "needs_background": "light"
     },
     "output_type": "display_data"
    }
   ],
   "source": [
    "import seaborn as sns\n",
    "## Plot a heatmap\n",
    "sns.heatmap(X.corr(),vmin = -1,vmax = 1,cmap = 'PiYG')"
   ]
  },
  {
   "cell_type": "markdown",
   "id": "833e5b28",
   "metadata": {},
   "source": [
    "## Observation\n",
    "Scalp involvment and knee and elbow involvment are the two most co-related categories.\n",
    "Everything else appears to be generally independant of each other.\n",
    "Let take a look at the features with respect to y now."
   ]
  },
  {
   "cell_type": "code",
   "execution_count": 118,
   "id": "0293e983",
   "metadata": {},
   "outputs": [],
   "source": [
    "#define the y variable\n",
    "\n",
    "Y = (df[34] == 1).astype(int).values\n",
    "X['Y'] = Y"
   ]
  },
  {
   "cell_type": "code",
   "execution_count": 119,
   "id": "b0f7b92e",
   "metadata": {},
   "outputs": [
    {
     "data": {
      "text/plain": [
       "<AxesSubplot:>"
      ]
     },
     "execution_count": 119,
     "metadata": {},
     "output_type": "execute_result"
    },
    {
     "data": {
      "image/png": "[encoded data removed]",
      "text/plain": [
       "<Figure size 432x288 with 2 Axes>"
      ]
     },
     "metadata": {
      "needs_background": "light"
     },
     "output_type": "display_data"
    }
   ],
   "source": [
    "##Reshow the corelation with respect to Y\n",
    "sns.heatmap(X.corr(),vmin = -1,vmax = 1,cmap = 'PiYG')"
   ]
  },
  {
   "cell_type": "markdown",
   "id": "2ff0dae0",
   "metadata": {},
   "source": [
    "## Observation\n",
    "Now that we adding our predicted variable, reploting our corelation matrix shows us that our Y is actually corelated with scalp, elbow/knee involvement! This makes sense because it is a common area for psiorisis.\n",
    "\n",
    "Now lets take a closer look into each feature."
   ]
  },
  {
   "cell_type": "code",
   "execution_count": 120,
   "id": "d00498db",
   "metadata": {},
   "outputs": [
    {
     "data": {
      "text/plain": [
       "<AxesSubplot:xlabel='erythema', ylabel='Count'>"
      ]
     },
     "execution_count": 120,
     "metadata": {},
     "output_type": "execute_result"
    },
    {
     "data": {
      "image/png": "[encoded data removed]",
      "text/plain": [
       "<Figure size 432x288 with 1 Axes>"
      ]
     },
     "metadata": {
      "needs_background": "light"
     },
     "output_type": "display_data"
    }
   ],
   "source": [
    "sns.histplot(X, x = col[0],hue = 'Y', multiple = 'stack')"
   ]
  },
  {
   "cell_type": "markdown",
   "id": "6cdd6e66",
   "metadata": {},
   "source": [
    "It seems that erythema is common in psiorisis but also common in other diseases"
   ]
  },
  {
   "cell_type": "code",
   "execution_count": 121,
   "id": "eeecbc62",
   "metadata": {},
   "outputs": [
    {
     "data": {
      "text/plain": [
       "<AxesSubplot:xlabel='scaling', ylabel='Count'>"
      ]
     },
     "execution_count": 121,
     "metadata": {},
     "output_type": "execute_result"
    },
    {
     "data": {
      "image/png": "[encoded data removed]",
      "text/plain": [
       "<Figure size 432x288 with 1 Axes>"
      ]
     },
     "metadata": {
      "needs_background": "light"
     },
     "output_type": "display_data"
    }
   ],
   "source": [
    "sns.histplot(X, x = col[1],hue = 'Y', multiple = 'stack')"
   ]
  },
  {
   "cell_type": "markdown",
   "id": "a23defe1",
   "metadata": {},
   "source": [
    "Scaling is a defining feature in psiorisis but it seems that many of the other diseases in the dataset also share that same feature."
   ]
  },
  {
   "cell_type": "code",
   "execution_count": 122,
   "id": "80cb8a65",
   "metadata": {},
   "outputs": [
    {
     "data": {
      "text/plain": [
       "<AxesSubplot:xlabel='definite borders', ylabel='Count'>"
      ]
     },
     "execution_count": 122,
     "metadata": {},
     "output_type": "execute_result"
    },
    {
     "data": {
      "image/png": "[encoded data removed]",
      "text/plain": [
       "<Figure size 432x288 with 1 Axes>"
      ]
     },
     "metadata": {
      "needs_background": "light"
     },
     "output_type": "display_data"
    }
   ],
   "source": [
    "sns.histplot(X, x = col[2],hue = 'Y', multiple = 'stack')"
   ]
  },
  {
   "cell_type": "markdown",
   "id": "b90b836a",
   "metadata": {},
   "source": [
    "Psiorisis and other diseases have definite borders. Psiorisis usually have it, as they are actually reporting 0 in 0. "
   ]
  },
  {
   "cell_type": "code",
   "execution_count": 123,
   "id": "25469b79",
   "metadata": {},
   "outputs": [
    {
     "data": {
      "text/plain": [
       "<AxesSubplot:xlabel='itching', ylabel='Count'>"
      ]
     },
     "execution_count": 123,
     "metadata": {},
     "output_type": "execute_result"
    },
    {
     "data": {
      "image/png": "[encoded data removed]",
      "text/plain": [
       "<Figure size 432x288 with 1 Axes>"
      ]
     },
     "metadata": {
      "needs_background": "light"
     },
     "output_type": "display_data"
    }
   ],
   "source": [
    "sns.histplot(X, x = col[3],hue = 'Y', multiple = 'stack')"
   ]
  },
  {
   "cell_type": "markdown",
   "id": "f653aa41",
   "metadata": {},
   "source": [
    "Itchings distribution is relatively spread out between all the categories"
   ]
  },
  {
   "cell_type": "code",
   "execution_count": 124,
   "id": "5973e6b6",
   "metadata": {},
   "outputs": [
    {
     "data": {
      "text/plain": [
       "<AxesSubplot:xlabel='koebner phenomenon', ylabel='Count'>"
      ]
     },
     "execution_count": 124,
     "metadata": {},
     "output_type": "execute_result"
    },
    {
     "data": {
      "image/png": "[encoded data removed]",
      "text/plain": [
       "<Figure size 432x288 with 1 Axes>"
      ]
     },
     "metadata": {
      "needs_background": "light"
     },
     "output_type": "display_data"
    }
   ],
   "source": [
    "sns.histplot(X, x = col[4],hue = 'Y', multiple = 'stack')"
   ]
  },
  {
   "cell_type": "markdown",
   "id": "9790d39e",
   "metadata": {},
   "source": [
    "Koebnor phenomenon seems to be a relatively uncommon feature in all categories."
   ]
  },
  {
   "cell_type": "code",
   "execution_count": 125,
   "id": "009c47f8",
   "metadata": {},
   "outputs": [
    {
     "data": {
      "text/plain": [
       "<AxesSubplot:xlabel='polygonal papules', ylabel='Count'>"
      ]
     },
     "execution_count": 125,
     "metadata": {},
     "output_type": "execute_result"
    },
    {
     "data": {
      "image/png": "[encoded data removed]",
      "text/plain": [
       "<Figure size 432x288 with 1 Axes>"
      ]
     },
     "metadata": {
      "needs_background": "light"
     },
     "output_type": "display_data"
    }
   ],
   "source": [
    "sns.histplot(X, x = col[5],hue = 'Y', multiple = 'stack')"
   ]
  },
  {
   "cell_type": "markdown",
   "id": "d2095d47",
   "metadata": {},
   "source": [
    "This features seems to not appear at all in the psirosisi group"
   ]
  },
  {
   "cell_type": "code",
   "execution_count": 126,
   "id": "6c2503ec",
   "metadata": {},
   "outputs": [
    {
     "data": {
      "text/plain": [
       "<AxesSubplot:xlabel='follicular papules', ylabel='Count'>"
      ]
     },
     "execution_count": 126,
     "metadata": {},
     "output_type": "execute_result"
    },
    {
     "data": {
      "image/png": "[encoded data removed]",
      "text/plain": [
       "<Figure size 432x288 with 1 Axes>"
      ]
     },
     "metadata": {
      "needs_background": "light"
     },
     "output_type": "display_data"
    }
   ],
   "source": [
    "sns.histplot(X, x = col[6],hue = 'Y', multiple = 'stack')"
   ]
  },
  {
   "cell_type": "markdown",
   "id": "0105ce66",
   "metadata": {},
   "source": [
    "This features seems to not appear at all in the psirosisi group"
   ]
  },
  {
   "cell_type": "code",
   "execution_count": 127,
   "id": "ffdbb9b2",
   "metadata": {},
   "outputs": [
    {
     "data": {
      "text/plain": [
       "<AxesSubplot:xlabel='oral mucosal involvement', ylabel='Count'>"
      ]
     },
     "execution_count": 127,
     "metadata": {},
     "output_type": "execute_result"
    },
    {
     "data": {
      "image/png": "[encoded data removed]",
      "text/plain": [
       "<Figure size 432x288 with 1 Axes>"
      ]
     },
     "metadata": {
      "needs_background": "light"
     },
     "output_type": "display_data"
    }
   ],
   "source": [
    "sns.histplot(X, x = col[7],hue = 'Y', multiple = 'stack')"
   ]
  },
  {
   "cell_type": "markdown",
   "id": "a70a6ef6",
   "metadata": {},
   "source": [
    "This features seems to not appear at all in the psirosisi group"
   ]
  },
  {
   "cell_type": "code",
   "execution_count": 128,
   "id": "2e93f4c5",
   "metadata": {},
   "outputs": [
    {
     "data": {
      "text/plain": [
       "<AxesSubplot:xlabel='knee and elbow involvement', ylabel='Count'>"
      ]
     },
     "execution_count": 128,
     "metadata": {},
     "output_type": "execute_result"
    },
    {
     "data": {
      "image/png": "[encoded data removed]",
      "text/plain": [
       "<Figure size 432x288 with 1 Axes>"
      ]
     },
     "metadata": {
      "needs_background": "light"
     },
     "output_type": "display_data"
    }
   ],
   "source": [
    "sns.histplot(X, x = col[8],hue = 'Y', multiple = 'stack')"
   ]
  },
  {
   "cell_type": "markdown",
   "id": "8f7d1ad8",
   "metadata": {},
   "source": [
    "Very common in patients with psiorisis as we could expect from our corelation plot"
   ]
  },
  {
   "cell_type": "code",
   "execution_count": 129,
   "id": "32c5dca9",
   "metadata": {},
   "outputs": [
    {
     "data": {
      "text/plain": [
       "<AxesSubplot:xlabel='scalp involvement', ylabel='Count'>"
      ]
     },
     "execution_count": 129,
     "metadata": {},
     "output_type": "execute_result"
    },
    {
     "data": {
      "image/png": "[encoded data removed]",
      "text/plain": [
       "<Figure size 432x288 with 1 Axes>"
      ]
     },
     "metadata": {
      "needs_background": "light"
     },
     "output_type": "display_data"
    }
   ],
   "source": [
    "sns.histplot(X, x = col[9],hue = 'Y', multiple = 'stack')"
   ]
  },
  {
   "cell_type": "markdown",
   "id": "c4b54577",
   "metadata": {},
   "source": [
    "Very common in patients with psiorisis as we could expect from our corelation plot"
   ]
  },
  {
   "cell_type": "markdown",
   "id": "f9bf1de9",
   "metadata": {},
   "source": [
    "## kfolds and model cross validation"
   ]
  },
  {
   "cell_type": "code",
   "execution_count": 130,
   "id": "fa894317",
   "metadata": {},
   "outputs": [
    {
     "ename": "SyntaxError",
     "evalue": "invalid syntax (Temp/ipykernel_19880/3444808156.py, line 1)",
     "output_type": "error",
     "traceback": [
      "\u001b[1;36m  File \u001b[1;32m\"C:\\Users\\jesse\\AppData\\Local\\Temp/ipykernel_19880/3444808156.py\"\u001b[1;36m, line \u001b[1;32m1\u001b[0m\n\u001b[1;33m    from sklearn.model_selection\u001b[0m\n\u001b[1;37m                                ^\u001b[0m\n\u001b[1;31mSyntaxError\u001b[0m\u001b[1;31m:\u001b[0m invalid syntax\n"
     ]
    }
   ],
   "source": [
    "from sklearn.model_selection"
   ]
  },
  {
   "cell_type": "code",
   "execution_count": 131,
   "id": "b845c7b3",
   "metadata": {},
   "outputs": [],
   "source": [
    "from sklearn.model_selection import KFold\n",
    "from sklearn.model_selection import cross_val_score\n",
    "#set up kfolds\n",
    "kfold = KFold(n_splits=5,random_state=0,shuffle=True)\n",
    "# Model comparision\n",
    "from sklearn.linear_model import LogisticRegression\n",
    "from  sklearn.tree import DecisionTreeClassifier\n",
    "from sklearn.neighbors import KNeighborsClassifier\n",
    "from sklearn.linear_model import LinearRegression\n",
    "\n",
    "logistic= LogisticRegression()\n",
    "linear = LinearRegression()\n",
    "decision = DecisionTreeClassifier()\n",
    "KNN = KNeighborsClassifier()\n",
    "#add them to array\n",
    "array = [linear,logistic,decision,KNN]\n",
    "names = ['linear', 'logistic', 'decision', 'KNN']"
   ]
  },
  {
   "cell_type": "code",
   "execution_count": 132,
   "id": "7151d815",
   "metadata": {},
   "outputs": [
    {
     "name": "stdout",
     "output_type": "stream",
     "text": [
      "linear-Accuracy: 70.478% (3.353%)\n",
      "logistic-Accuracy: 94.806% (1.605%)\n",
      "decision-Accuracy: 92.625% (1.633%)\n",
      "KNN-Accuracy: 93.987% (1.403%)\n"
     ]
    }
   ],
   "source": [
    "X = X.drop(columns = ['Y'])\n",
    "for i in range(4):\n",
    "    results = cross_val_score(array[i],X,Y,cv = kfold)\n",
    "    print(names[i]+\"-\"+\"Accuracy: %.3f%% (%.3f%%)\" % (results.mean()*100.0, results.std()*100.0))"
   ]
  },
  {
   "cell_type": "markdown",
   "id": "8edf621b",
   "metadata": {},
   "source": [
    "Since our logistic model achieve the best accuracy we are going to start by modeling a logistic model.\n",
    "## Model Fit 1: Logistic Model"
   ]
  },
  {
   "cell_type": "code",
   "execution_count": 133,
   "id": "cd6eec89",
   "metadata": {},
   "outputs": [
    {
     "name": "stdout",
     "output_type": "stream",
     "text": [
      "Fitting 3 folds for each of 1600 candidates, totalling 4800 fits\n"
     ]
    },
    {
     "name": "stderr",
     "output_type": "stream",
     "text": [
      "C:\\Users\\jesse\\anaconda3\\lib\\site-packages\\sklearn\\model_selection\\_search.py:922: UserWarning: One or more of the test scores are non-finite: [       nan        nan 0.69398907 ...        nan 0.93715847 0.93715847]\n",
      "  warnings.warn(\n",
      "C:\\Users\\jesse\\anaconda3\\lib\\site-packages\\sklearn\\linear_model\\_sag.py:328: ConvergenceWarning: The max_iter was reached which means the coef_ did not converge\n",
      "  warnings.warn(\"The max_iter was reached which means \"\n"
     ]
    }
   ],
   "source": [
    "import numpy as np\n",
    "#set up for param fitting\n",
    "param = param_grid = [    \n",
    "    {'penalty' : ['l1', 'l2', 'elasticnet', 'none'],\n",
    "    'C' : np.logspace(-4, 4, 20),\n",
    "    'solver' : ['lbfgs','newton-cg','liblinear','sag','saga'],\n",
    "    'max_iter' : [100, 1000,2500, 5000]\n",
    "    }\n",
    "]\n",
    "from sklearn.model_selection import GridSearchCV\n",
    "clf = GridSearchCV(logistic,param_grid = param,cv=3,verbose =True,n_jobs = -1)\n",
    "\n",
    "best_conf = clf.fit(X,Y)\n"
   ]
  },
  {
   "cell_type": "code",
   "execution_count": 134,
   "id": "098d5618",
   "metadata": {},
   "outputs": [
    {
     "name": "stdout",
     "output_type": "stream",
     "text": [
      "LogisticRegression(C=0.615848211066026, penalty='l1', solver='saga')\n"
     ]
    }
   ],
   "source": [
    "print(best_conf.best_estimator_)"
   ]
  },
  {
   "cell_type": "code",
   "execution_count": 135,
   "id": "e731e07a",
   "metadata": {
    "scrolled": true
   },
   "outputs": [
    {
     "name": "stdout",
     "output_type": "stream",
     "text": [
      "Accuracy - : 0.967\n"
     ]
    }
   ],
   "source": [
    "print (f'Accuracy - : {best_conf.score(X,Y):.3f}')"
   ]
  },
  {
   "cell_type": "code",
   "execution_count": 136,
   "id": "8ffcc64f",
   "metadata": {},
   "outputs": [
    {
     "name": "stdout",
     "output_type": "stream",
     "text": [
      "Test set accuracy:  0.967391304347826\n",
      "Test set accuracy:  0.967391304347826\n",
      "Test set accuracy:  0.967391304347826\n",
      "Test set accuracy:  0.967391304347826\n",
      "Test set accuracy:  0.967391304347826\n",
      "Test set accuracy:  0.967391304347826\n",
      "Test set accuracy:  0.967391304347826\n",
      "Test set accuracy:  0.967391304347826\n",
      "Test set accuracy:  0.967391304347826\n",
      "Test set accuracy:  0.967391304347826\n"
     ]
    },
    {
     "name": "stderr",
     "output_type": "stream",
     "text": [
      "C:\\Users\\jesse\\anaconda3\\lib\\site-packages\\sklearn\\linear_model\\_sag.py:328: ConvergenceWarning: The max_iter was reached which means the coef_ did not converge\n",
      "  warnings.warn(\"The max_iter was reached which means \"\n",
      "C:\\Users\\jesse\\anaconda3\\lib\\site-packages\\sklearn\\linear_model\\_sag.py:328: ConvergenceWarning: The max_iter was reached which means the coef_ did not converge\n",
      "  warnings.warn(\"The max_iter was reached which means \"\n",
      "C:\\Users\\jesse\\anaconda3\\lib\\site-packages\\sklearn\\linear_model\\_sag.py:328: ConvergenceWarning: The max_iter was reached which means the coef_ did not converge\n",
      "  warnings.warn(\"The max_iter was reached which means \"\n",
      "C:\\Users\\jesse\\anaconda3\\lib\\site-packages\\sklearn\\linear_model\\_sag.py:328: ConvergenceWarning: The max_iter was reached which means the coef_ did not converge\n",
      "  warnings.warn(\"The max_iter was reached which means \"\n",
      "C:\\Users\\jesse\\anaconda3\\lib\\site-packages\\sklearn\\linear_model\\_sag.py:328: ConvergenceWarning: The max_iter was reached which means the coef_ did not converge\n",
      "  warnings.warn(\"The max_iter was reached which means \"\n",
      "C:\\Users\\jesse\\anaconda3\\lib\\site-packages\\sklearn\\linear_model\\_sag.py:328: ConvergenceWarning: The max_iter was reached which means the coef_ did not converge\n",
      "  warnings.warn(\"The max_iter was reached which means \"\n",
      "C:\\Users\\jesse\\anaconda3\\lib\\site-packages\\sklearn\\linear_model\\_sag.py:328: ConvergenceWarning: The max_iter was reached which means the coef_ did not converge\n",
      "  warnings.warn(\"The max_iter was reached which means \"\n",
      "C:\\Users\\jesse\\anaconda3\\lib\\site-packages\\sklearn\\linear_model\\_sag.py:328: ConvergenceWarning: The max_iter was reached which means the coef_ did not converge\n",
      "  warnings.warn(\"The max_iter was reached which means \"\n",
      "C:\\Users\\jesse\\anaconda3\\lib\\site-packages\\sklearn\\linear_model\\_sag.py:328: ConvergenceWarning: The max_iter was reached which means the coef_ did not converge\n",
      "  warnings.warn(\"The max_iter was reached which means \"\n",
      "C:\\Users\\jesse\\anaconda3\\lib\\site-packages\\sklearn\\linear_model\\_sag.py:328: ConvergenceWarning: The max_iter was reached which means the coef_ did not converge\n",
      "  warnings.warn(\"The max_iter was reached which means \"\n"
     ]
    }
   ],
   "source": [
    "from sklearn.model_selection import train_test_split\n",
    "#define test split\n",
    "X_train, X_test, y_train, y_test = train_test_split(X, Y)\n",
    "score_array = []\n",
    "for i in range(10):\n",
    "    lr = LogisticRegression(C = 0.615848211066026,penalty = 'l1', solver = 'saga')\n",
    "    lr.fit(X_train,y_train)\n",
    "    Y_pred = lr.predict(X_test)\n",
    "    print('Test set accuracy: ',metrics.accuracy_score(y_test, Y_pred))\n",
    "    score_array.append(metrics.accuracy_score(y_test, y_pred))\n",
    "score_array = np.array(score_array)\n",
    "  "
   ]
  },
  {
   "cell_type": "code",
   "execution_count": 137,
   "id": "819cea16",
   "metadata": {},
   "outputs": [
    {
     "name": "stdout",
     "output_type": "stream",
     "text": [
      "[[54  0]\n",
      " [ 3 35]]\n"
     ]
    }
   ],
   "source": [
    "from sklearn.metrics import confusion_matrix \n",
    "print(confusion_matrix(y_test, Y_pred))"
   ]
  },
  {
   "cell_type": "markdown",
   "id": "a5826d0e",
   "metadata": {},
   "source": [
    "Only a few false positives/negatives"
   ]
  },
  {
   "cell_type": "markdown",
   "id": "8f7b7ab2",
   "metadata": {},
   "source": [
    "## Model 2 : Decision Tree Classifier"
   ]
  },
  {
   "cell_type": "code",
   "execution_count": 138,
   "id": "ec9ccf26",
   "metadata": {},
   "outputs": [
    {
     "name": "stdout",
     "output_type": "stream",
     "text": [
      "Fitting 5 folds for each of 10 candidates, totalling 50 fits\n"
     ]
    },
    {
     "data": {
      "text/plain": [
       "RandomizedSearchCV(cv=5, estimator=DecisionTreeClassifier(),\n",
       "                   param_distributions={'criterion': ('gini', 'entropy'),\n",
       "                                        'max_depth': (3, 5, 7, 9, 10, 15, 20,\n",
       "                                                      25),\n",
       "                                        'max_features': ('auto', 'sqrt',\n",
       "                                                         'log2'),\n",
       "                                        'min_samples_split': (2, 4, 6)},\n",
       "                   verbose=True)"
      ]
     },
     "execution_count": 138,
     "metadata": {},
     "output_type": "execute_result"
    }
   ],
   "source": [
    "from sklearn.model_selection import RandomizedSearchCV\n",
    "from  sklearn.tree import DecisionTreeClassifier\n",
    "parameters = {'max_depth' : (3,5,7,9,10,15,20,25)\n",
    "              , 'criterion' : ('gini', 'entropy')\n",
    "              , 'max_features' : ('auto', 'sqrt', 'log2')\n",
    "              , 'min_samples_split' : (2,4,6)\n",
    "             }\n",
    "dc =DecisionTreeClassifier()\n",
    "DT_grid  = RandomizedSearchCV(dc,param_distributions = parameters, cv = 5, verbose = True)\n",
    "DT_grid.fit(X_train,y_train)"
   ]
  },
  {
   "cell_type": "code",
   "execution_count": 139,
   "id": "363522d7",
   "metadata": {},
   "outputs": [
    {
     "name": "stdout",
     "output_type": "stream",
     "text": [
      "DecisionTreeClassifier(criterion='entropy', max_depth=20, max_features='auto',\n",
      "                       min_samples_split=6)\n"
     ]
    }
   ],
   "source": [
    "print(DT_grid.best_estimator_)"
   ]
  },
  {
   "cell_type": "code",
   "execution_count": 140,
   "id": "19e0abf9",
   "metadata": {},
   "outputs": [
    {
     "name": "stdout",
     "output_type": "stream",
     "text": [
      "Test set accuracy:  0.9239130434782609\n",
      "Test set accuracy:  0.9456521739130435\n",
      "Test set accuracy:  0.9130434782608695\n",
      "Test set accuracy:  0.9130434782608695\n",
      "Test set accuracy:  0.8913043478260869\n",
      "Test set accuracy:  0.9347826086956522\n",
      "Test set accuracy:  0.8804347826086957\n",
      "Test set accuracy:  0.9347826086956522\n",
      "Test set accuracy:  0.9347826086956522\n",
      "Test set accuracy:  0.9239130434782609\n"
     ]
    }
   ],
   "source": [
    "score_array = []\n",
    "for i in range(10):\n",
    "    dt = DecisionTreeClassifier(max_depth =20, max_features = 'log2',min_samples_split=6)\n",
    "    dt.fit(X_train,y_train)\n",
    "    y_pred = dt.predict(X_test)\n",
    "    print('Test set accuracy: ',metrics.accuracy_score(y_test, y_pred))\n",
    "    score_array.append(metrics.accuracy_score(y_test, y_pred))\n",
    "score_array = np.array(score_array)\n"
   ]
  },
  {
   "cell_type": "code",
   "execution_count": 141,
   "id": "d4f574c5",
   "metadata": {},
   "outputs": [
    {
     "name": "stdout",
     "output_type": "stream",
     "text": [
      "Test set mean accuracy:  0.9195652173913043\n",
      "[[52  2]\n",
      " [ 5 33]]\n"
     ]
    }
   ],
   "source": [
    "print('Test set mean accuracy: ',score_array.mean())\n",
    "print(confusion_matrix(y_test, y_pred))"
   ]
  },
  {
   "cell_type": "markdown",
   "id": "a8c1c185",
   "metadata": {},
   "source": [
    "## Final Model: KNN"
   ]
  },
  {
   "cell_type": "code",
   "execution_count": 142,
   "id": "4937b99c",
   "metadata": {},
   "outputs": [],
   "source": [
    "##Hyper parameters"
   ]
  },
  {
   "cell_type": "code",
   "execution_count": 143,
   "id": "abe24d54",
   "metadata": {},
   "outputs": [
    {
     "name": "stdout",
     "output_type": "stream",
     "text": [
      "Fitting 3 folds for each of 36 candidates, totalling 108 fits\n"
     ]
    }
   ],
   "source": [
    "from sklearn.model_selection import GridSearchCV\n",
    "grid_params = { 'n_neighbors' : [5,7,9,11,13,15],\n",
    "               'weights' : ['uniform','distance'],\n",
    "               'metric' : ['minkowski','euclidean','manhattan']}\n",
    "gs = GridSearchCV(KNeighborsClassifier(), grid_params, verbose = 1, cv=3, n_jobs = -1)\n",
    "g_res = gs.fit(X_train, y_train)"
   ]
  },
  {
   "cell_type": "code",
   "execution_count": 144,
   "id": "639492c4",
   "metadata": {},
   "outputs": [
    {
     "data": {
      "text/plain": [
       "0.9561634018155757"
      ]
     },
     "execution_count": 144,
     "metadata": {},
     "output_type": "execute_result"
    }
   ],
   "source": [
    "g_res.best_score_"
   ]
  },
  {
   "cell_type": "code",
   "execution_count": 145,
   "id": "3772978f",
   "metadata": {},
   "outputs": [
    {
     "data": {
      "text/plain": [
       "{'metric': 'minkowski', 'n_neighbors': 7, 'weights': 'distance'}"
      ]
     },
     "execution_count": 145,
     "metadata": {},
     "output_type": "execute_result"
    }
   ],
   "source": [
    "g_res.best_params_"
   ]
  },
  {
   "cell_type": "code",
   "execution_count": 146,
   "id": "d0174d99",
   "metadata": {},
   "outputs": [
    {
     "name": "stdout",
     "output_type": "stream",
     "text": [
      "Test set accuracy:  0.9565217391304348\n",
      "Test set accuracy:  0.9565217391304348\n",
      "Test set accuracy:  0.9565217391304348\n",
      "Test set accuracy:  0.9565217391304348\n",
      "Test set accuracy:  0.9565217391304348\n",
      "Test set accuracy:  0.9565217391304348\n",
      "Test set accuracy:  0.9565217391304348\n",
      "Test set accuracy:  0.9565217391304348\n",
      "Test set accuracy:  0.9565217391304348\n",
      "Test set accuracy:  0.9565217391304348\n",
      "[0.9565217391304348, 0.9565217391304348, 0.9565217391304348, 0.9565217391304348, 0.9565217391304348, 0.9565217391304348, 0.9565217391304348, 0.9565217391304348, 0.9565217391304348, 0.9565217391304348]\n"
     ]
    }
   ],
   "source": [
    "#Fit the model!\n",
    "score_array = []\n",
    "for i in range(10):\n",
    "    knn = KNeighborsClassifier(metric = 'minkowski',n_neighbors = 5, weights = 'distance')\n",
    "    knn.fit(X_train,y_train)\n",
    "    y_knn = knn.predict(X_test)\n",
    "    print('Test set accuracy: ',metrics.accuracy_score(y_test, y_knn))\n",
    "    score_array.append(metrics.accuracy_score(y_test, y_knn))\n",
    "print(score_array)"
   ]
  },
  {
   "cell_type": "code",
   "execution_count": 148,
   "id": "1c90425b",
   "metadata": {},
   "outputs": [
    {
     "name": "stdout",
     "output_type": "stream",
     "text": [
      "[[54  0]\n",
      " [ 4 34]]\n"
     ]
    }
   ],
   "source": [
    "score_array = np.array(score_array)\n",
    "score_array.mean()\n",
    "print(confusion_matrix(y_test, y_knn))"
   ]
  },
  {
   "cell_type": "markdown",
   "id": "829ff5b0",
   "metadata": {},
   "source": [
    "## Final Observation \n",
    "All of our models had an average of over 90% successful predictions. Our models performed well on the test set so we can assume that the model isn't extremly overfit. However, if someone decided to use these modelling techniques but started adding in other diseases that can cause red inflamed skin or changed the disribution of disease type, the accuracy may fall off because the model would be better fit towards this particular dataset. \n",
    "\n",
    "I am pretty happy with the performance of these models especially when not having acccess to labratory or family history(which is particularly important in individuals with psiorisis). If those features were added in, it would increase the accuracy of the model to near 100%."
   ]
  }
 ],
 "metadata": {
  "kernelspec": {
   "display_name": "Python 3 (ipykernel)",
   "language": "python",
   "name": "python3"
  },
  "language_info": {
   "codemirror_mode": {
    "name": "ipython",
    "version": 3
   },
   "file_extension": ".py",
   "mimetype": "text/x-python",
   "name": "python",
   "nbconvert_exporter": "python",
   "pygments_lexer": "ipython3",
   "version": "3.9.7"
  }
 },
 "nbformat": 4,
 "nbformat_minor": 5
}
